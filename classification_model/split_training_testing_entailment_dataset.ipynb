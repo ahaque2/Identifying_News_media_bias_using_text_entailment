{
 "cells": [
  {
   "cell_type": "code",
   "execution_count": 25,
   "metadata": {},
   "outputs": [],
   "source": [
    "import pandas as pd\n",
    "import numpy as np\n",
    "import sys\n",
    "from sklearn.model_selection import StratifiedShuffleSplit"
   ]
  },
  {
   "cell_type": "code",
   "execution_count": 26,
   "metadata": {},
   "outputs": [],
   "source": [
    "def get_train_test_split(filename):\n",
    "    data = pd.read_csv(filename)\n",
    "    X = np.array(data.iloc[:,0:2])\n",
    "    y = np.array(data.iloc[:,2])\n",
    "\n",
    "    sss = StratifiedShuffleSplit(n_splits=2, test_size=0.5, random_state=0)\n",
    " \n",
    "    for train_index, test_index in sss.split(X, y):\n",
    "        print(\"TRAIN:\", train_index, \"TEST:\", test_index)\n",
    "        X_train, X_test = X[train_index], X[test_index]\n",
    "        y_train, y_test = y[train_index], y[test_index]\n",
    "        \n",
    "    return X_train, y_train, X_test, y_test\n",
    "\n",
    "def create_training_testing_files(X_train, y_train, X_test, y_test):\n",
    "    df_train = pd.DataFrame(X_train)\n",
    "    df_test = pd.DataFrame(X_test)\n",
    "    df_train['label'] = y_train\n",
    "    df_test['label'] = y_test\n",
    "    df_train.to_csv('ROC_dataset/entailment_train.csv')\n",
    "    df_test.to_csv('ROC_dataset/entailment_test.csv')"
   ]
  },
  {
   "cell_type": "code",
   "execution_count": 27,
   "metadata": {},
   "outputs": [],
   "source": [
    "filename = 'ROC_dataset/entailment_training_dataset.csv'"
   ]
  },
  {
   "cell_type": "code",
   "execution_count": 28,
   "metadata": {},
   "outputs": [
    {
     "name": "stdout",
     "output_type": "stream",
     "text": [
      "TRAIN: [ 9314  7022 14311 ... 19406 16883  8621] TEST: [ 8613 24167 12366 ... 17159 24164 20397]\n",
      "TRAIN: [11090  1119 18679 ... 15110  5855 16454] TEST: [24317 11549 12376 ... 24006  7438 14112]\n",
      "(12642, 2) (12642,)\n",
      "(12643, 2) (12643,)\n"
     ]
    }
   ],
   "source": [
    "X_train, y_train, X_test, y_test = get_train_test_split(filename)\n",
    "print(X_train.shape, y_train.shape)\n",
    "print(X_test.shape, y_test.shape)"
   ]
  },
  {
   "cell_type": "code",
   "execution_count": 29,
   "metadata": {},
   "outputs": [],
   "source": [
    "create_training_testing_files(X_train, y_train, X_test, y_test)"
   ]
  },
  {
   "cell_type": "code",
   "execution_count": null,
   "metadata": {},
   "outputs": [],
   "source": []
  }
 ],
 "metadata": {
  "kernelspec": {
   "display_name": "Python 3",
   "language": "python",
   "name": "python3"
  },
  "language_info": {
   "codemirror_mode": {
    "name": "ipython",
    "version": 3
   },
   "file_extension": ".py",
   "mimetype": "text/x-python",
   "name": "python",
   "nbconvert_exporter": "python",
   "pygments_lexer": "ipython3",
   "version": "3.5.2"
  }
 },
 "nbformat": 4,
 "nbformat_minor": 2
}
