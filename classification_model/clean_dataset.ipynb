{
 "cells": [
  {
   "cell_type": "code",
   "execution_count": 16,
   "metadata": {},
   "outputs": [],
   "source": [
    "import pandas as pd\n",
    "import numpy as np"
   ]
  },
  {
   "cell_type": "code",
   "execution_count": 17,
   "metadata": {},
   "outputs": [],
   "source": [
    "data = pd.read_csv('ROC_dataset/P1_training_set.csv')"
   ]
  },
  {
   "cell_type": "code",
   "execution_count": 18,
   "metadata": {},
   "outputs": [
    {
     "name": "stdout",
     "output_type": "stream",
     "text": [
      "          ID                                      Event 1  \\\n",
      "0     108490                  He (push) her on the ground   \n",
      "1     107453                          He (see) a squirrel   \n",
      "2     100428                I (reach) the free throw line   \n",
      "3     101146           They (study) the recipe diligently   \n",
      "4     101942                     My feet (end) up burning   \n",
      "5     107047             The computer (function) properly   \n",
      "6     104232                She (change) into her pajamas   \n",
      "7     106453                 They (ride) the bike all day   \n",
      "8     104866             The couple (get) along very well   \n",
      "9     100734              She (realize) that she was lost   \n",
      "10    104096                            She (yell) at her   \n",
      "11    103797                   He (stop) at a coffee shop   \n",
      "12    106512                 They (get) the highest grade   \n",
      "13    105536                I (ask) my husband to help me   \n",
      "14    102717               They (end) up passing the test   \n",
      "15    105444              I (play) the tapes all day long   \n",
      "16    104087                    She (get) what she wanted   \n",
      "17    104988                   She (make) a coffee flavor   \n",
      "18    106655      They (confiscate) the game indefinitely   \n",
      "19    106870                 He (buy) some from the store   \n",
      "20    105137        A large fireball (erupt) from the pit   \n",
      "21    105570                 They never (find) their raft   \n",
      "22    102571                     His wife (take) him home   \n",
      "23    100824              His stomach (start) to feel bad   \n",
      "24    108060              I (go) very slowly up the trail   \n",
      "25    102837                        She (make) them loose   \n",
      "26    102083   His teammate (pass) the basketball to John   \n",
      "27    106834            He (spend) all of his time online   \n",
      "28    107950                     He (buy) a tank and food   \n",
      "29    107202                   He (win) by a short margin   \n",
      "...      ...                                          ...   \n",
      "8037  105550           I (pull) out the dresser to vacuum   \n",
      "8038  107962                 Jemma 's mom (take) her home   \n",
      "8039  108142                   All his friends (come) out   \n",
      "8040  107394               The boy (get) Sharon 's number   \n",
      "8041  102471                      He (turn) on some music   \n",
      "8042  107053                She (take) me to the hospital   \n",
      "8043  101765              Nell (rent) a kayak for the day   \n",
      "8044  104417  She (blow) glass creating a gorgeous flower   \n",
      "8045  108698                               She (go) on FB   \n",
      "8046  104328               He (earn) his pilot 's license   \n",
      "8047  100525                    The lab (study) the bones   \n",
      "8048  106468           The Chinese (rent) a movie theater   \n",
      "8049  102424                          The wire (come) out   \n",
      "8050  106411                          They (eat) a waffle   \n",
      "8051  100452                           We (go) to a place   \n",
      "8052  104190                  She (skip) a lot of classes   \n",
      "8053  102638                 They (remember) that feeling   \n",
      "8054  103933         She (call) customer service for help   \n",
      "8055  108445                He finally (respond) agreeing   \n",
      "8056  104542                        They (take) a big hit   \n",
      "8057  108494                        I (fail) the eye test   \n",
      "8058  106690               They just (move) to a new city   \n",
      "8059  101024       My family (take) a vacation to Florida   \n",
      "8060  108999                    She (crack) two eggs open   \n",
      "8061  107916            I (take) them for an entire month   \n",
      "8062  101615                They (try) to end the tension   \n",
      "8063  107951               She (play) the lotto every day   \n",
      "8064  107296              We (go) to the concession stand   \n",
      "8065  100590              I (recognize) some of the tunes   \n",
      "8066  107731        They quickly (buy) her a new goldfish   \n",
      "\n",
      "                                            Event 2  Label  \n",
      "0                 She (try) to mess around with her      2  \n",
      "1                    They (decide) to go for a walk      2  \n",
      "2               I (steal) the ball from my opponent      2  \n",
      "3       A friend (recommend) she try baking cookies      2  \n",
      "4                      I (spill) some on the ground      2  \n",
      "5                        I (purchase) a used laptop      2  \n",
      "6                   They (get) ready to go to sleep      2  \n",
      "7                  He (let) him borrow his new bike      2  \n",
      "8                      They (meet) a woman in a bar      2  \n",
      "9             She (glance) at her map several times      2  \n",
      "10                 Snapper (jump) into a murky lake      2  \n",
      "11                      They (take) a trip downtown      2  \n",
      "12                        He (study) hard and often      2  \n",
      "13                  I finally (admit) I needed help      2  \n",
      "14                  This (give) Sally time to study      2  \n",
      "15                 My aunt (give) me a Teddy Ruxpin      2  \n",
      "16                            Her parents (give) in      2  \n",
      "17                   She (get) a lot of ingredients      2  \n",
      "18    He parents (overhear) him yelling and cursing      2  \n",
      "19                       He only (find) a few clams      2  \n",
      "20             They (pour) some gasoline on the pit      2  \n",
      "21                           The boaters (jump) out      2  \n",
      "22                    He (get) drunk at his wedding      2  \n",
      "23                                He (eat) the meat      2  \n",
      "24                   We (drive) to the hiking trail      2  \n",
      "25                       The woman (braid) her hair      2  \n",
      "26             They (run) down the basketball court      2  \n",
      "27                They (get) a new service provider      2  \n",
      "28                            They (get) a goldfish      2  \n",
      "29                          We (play) a racing game      2  \n",
      "...                                             ...    ...  \n",
      "8037             I (find) something small and brown      0  \n",
      "8038            Jemma (wake) up acting like herself      0  \n",
      "8039                         He (set) up a car wash      0  \n",
      "8040                           She (go) ice skating      0  \n",
      "8041                            He (close) his eyes      0  \n",
      "8042                         My aunt (come) outside      0  \n",
      "8043                       She (go) out on the lake      0  \n",
      "8044                          She (go) to the class      0  \n",
      "8045               She (get) a $ 100 parking ticket      0  \n",
      "8046                          He (decide) to attend      0  \n",
      "8047                      He (send) them to the lab      0  \n",
      "8048             I (grow) up in Chinatown in Boston      0  \n",
      "8049          She grinned so much her teeth (gleam)      0  \n",
      "8050                            They (eat) an apple      0  \n",
      "8051                        We (watch) on the video      0  \n",
      "8052           The girl (sign) up for summer school      0  \n",
      "8053                     They (give) another speech      0  \n",
      "8054                             She (make) a latte      0  \n",
      "8055                        She (pick) up the pizza      0  \n",
      "8056          She (go) home without buying anything      0  \n",
      "8057                           I (head) there today      0  \n",
      "8058              She (go) to another friends house      0  \n",
      "8059                       The storm (come) to land      0  \n",
      "8060            They (take) out several ingredients      0  \n",
      "8061              My face (break) out in whiteheads      0  \n",
      "8062         He eventually (run) into her at school      0  \n",
      "8063                             She (buy) a ticket      0  \n",
      "8064                         We (go) to a ball game      0  \n",
      "8065               My mother 's family (use) to sit      0  \n",
      "8066                     They (notice) said nothing      0  \n",
      "\n",
      "[8067 rows x 4 columns]\n"
     ]
    }
   ],
   "source": [
    "print(data)"
   ]
  },
  {
   "cell_type": "code",
   "execution_count": 19,
   "metadata": {},
   "outputs": [
    {
     "name": "stdout",
     "output_type": "stream",
     "text": [
      "Index(['ID', 'Event 1', 'Event 2', 'Label'], dtype='object')\n"
     ]
    }
   ],
   "source": [
    "print(data.columns)"
   ]
  },
  {
   "cell_type": "code",
   "execution_count": 20,
   "metadata": {},
   "outputs": [],
   "source": [
    "_id, event1, event2, label = data['ID'], data['Event 1'], data['Event 2'], data['Label']"
   ]
  },
  {
   "cell_type": "code",
   "execution_count": 21,
   "metadata": {},
   "outputs": [],
   "source": [
    "table = str.maketrans(dict.fromkeys(\"()\"))\n",
    "event1 = [event1[i].translate(table) for i in range(event1.shape[0])]\n",
    "event2 = [event2[i].translate(table) for i in range(event2.shape[0])]"
   ]
  },
  {
   "cell_type": "code",
   "execution_count": 22,
   "metadata": {},
   "outputs": [
    {
     "name": "stdout",
     "output_type": "stream",
     "text": [
      "8067\n"
     ]
    }
   ],
   "source": [
    "print(len(event1))"
   ]
  },
  {
   "cell_type": "code",
   "execution_count": 29,
   "metadata": {},
   "outputs": [],
   "source": [
    "#dt = data['ID']\n",
    "label = np.array(label)\n",
    "index = np.where(label == 2)\n",
    "label[index] == 0\n",
    "\n",
    "dt = pd.DataFrame()\n",
    "dt['event_1'] = event1\n",
    "dt['event_2'] = event2\n",
    "dt['orig_lab'] = label"
   ]
  },
  {
   "cell_type": "code",
   "execution_count": 30,
   "metadata": {},
   "outputs": [
    {
     "name": "stdout",
     "output_type": "stream",
     "text": [
      "(8067, 3)\n"
     ]
    }
   ],
   "source": [
    "print(dt.shape)"
   ]
  },
  {
   "cell_type": "code",
   "execution_count": 31,
   "metadata": {},
   "outputs": [],
   "source": [
    "dt.to_csv('ROC_dataset/eventpair_test.csv')"
   ]
  }
 ],
 "metadata": {
  "kernelspec": {
   "display_name": "Python 3",
   "language": "python",
   "name": "python3"
  },
  "language_info": {
   "codemirror_mode": {
    "name": "ipython",
    "version": 3
   },
   "file_extension": ".py",
   "mimetype": "text/x-python",
   "name": "python",
   "nbconvert_exporter": "python",
   "pygments_lexer": "ipython3",
   "version": "3.5.2"
  }
 },
 "nbformat": 4,
 "nbformat_minor": 2
}
