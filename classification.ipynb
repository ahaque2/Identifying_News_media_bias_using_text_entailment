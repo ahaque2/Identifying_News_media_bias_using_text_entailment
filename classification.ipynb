{
 "cells": [
  {
   "cell_type": "code",
   "execution_count": 16,
   "metadata": {},
   "outputs": [],
   "source": [
    "import pandas as pd\n",
    "import numpy as np\n",
    "\n",
    "from gensim.models import KeyedVectors\n",
    "from gensim.models import Word2Vec\n",
    "\n",
    "from sklearn import svm\n",
    "from sklearn.metrics import confusion_matrix \n",
    "from sklearn.metrics import accuracy_score, precision_score, classification_report, recall_score\n",
    "import gensim.downloader as api\n",
    "from gensim.models.doc2vec import Doc2Vec\n",
    "from sklearn.neighbors import KNeighborsClassifier\n",
    "from sklearn.naive_bayes import GaussianNB\n",
    "from sklearn.naive_bayes import MultinomialNB"
   ]
  },
  {
   "cell_type": "code",
   "execution_count": 2,
   "metadata": {},
   "outputs": [],
   "source": [
    "train_data = pd.read_csv('data/entailment_train.csv')\n",
    "test_data = pd.read_csv('data/entailment_test.csv')"
   ]
  },
  {
   "cell_type": "code",
   "execution_count": 14,
   "metadata": {},
   "outputs": [],
   "source": [
    "train_sent1 = train_data['sent1']\n",
    "train_sent2 = train_data['sent2']\n",
    "train_label = train_data['label']\n",
    "\n",
    "test_sent1 = test_data['sent1']\n",
    "test_sent2 = test_data['sent2']\n",
    "test_label = test_data['label']"
   ]
  },
  {
   "cell_type": "code",
   "execution_count": 12,
   "metadata": {},
   "outputs": [],
   "source": [
    "def mean_vectorizor(model, tokenized_sent, dim):\n",
    "    \n",
    "    return np.array([\n",
    "            np.mean([model[w] for w in words if w in model.vocab]\n",
    "                    or [np.zeros(dim)], axis=0)\n",
    "            for words in tokenized_sent\n",
    "        ])\n",
    "\n",
    "def google_news_word2vec(train_event_1, train_event_2, test_event_1, test_event_2):\n",
    "    \n",
    "    model = KeyedVectors.load_word2vec_format('../../word_embedings/GoogleNews-vectors-negative300.bin', binary=True)\n",
    "    \n",
    "    train_vec1 = mean_vectorizor(model, train_event_1, 300)\n",
    "    train_vec2 = mean_vectorizor(model, train_event_2, 300)\n",
    "    test_vec1 = mean_vectorizor(model, test_event_1, 300)\n",
    "    test_vec2 = mean_vectorizor(model, test_event_2, 300)\n",
    "    \n",
    "    return train_vec1, train_vec2, test_vec1, test_vec2, model"
   ]
  },
  {
   "cell_type": "code",
   "execution_count": 13,
   "metadata": {},
   "outputs": [],
   "source": [
    "train_vec1, train_vec2, test_vec1, test_vec2, model = google_news_word2vec(train_sent1, train_sent2, test_sent1, test_sent2)"
   ]
  },
  {
   "cell_type": "code",
   "execution_count": 17,
   "metadata": {},
   "outputs": [
    {
     "name": "stdout",
     "output_type": "stream",
     "text": [
      "(20228, 600)\n",
      "(5057, 600)\n",
      "confusion_matrix: \n",
      " [[1166 1223]\n",
      " [ 530 2138]]\n",
      "Accuracy :  0.6533517895985762\n",
      "Classification Report: \n",
      "               precision    recall  f1-score   support\n",
      "\n",
      "           0       0.69      0.49      0.57      2389\n",
      "           1       0.64      0.80      0.71      2668\n",
      "\n",
      "    accuracy                           0.65      5057\n",
      "   macro avg       0.66      0.64      0.64      5057\n",
      "weighted avg       0.66      0.65      0.64      5057\n",
      "\n"
     ]
    }
   ],
   "source": [
    "train_vec = np.concatenate((train_vec1, train_vec2), axis=1)\n",
    "test_vec = np.concatenate((test_vec1, test_vec2), axis=1)\n",
    "\n",
    "print(train_vec.shape)\n",
    "print(test_vec.shape)\n",
    "\n",
    "clf = svm.SVC(kernel = 'linear').fit(train_vec, train_label)\n",
    "#clf = KNeighborsClassifier(n_neighbors=3).fit(train_vec, train_label)\n",
    "#clf = MultinomialNB().fit(train_vec, train_label)\n",
    "pred_labels = clf.predict(test_vec)\n",
    "print(\"confusion_matrix: \\n\", confusion_matrix(test_label, pred_labels))\n",
    "print(\"Accuracy : \",accuracy_score(test_label, pred_labels))\n",
    "print(\"Classification Report: \\n\", classification_report(test_label, pred_labels))"
   ]
  },
  {
   "cell_type": "code",
   "execution_count": null,
   "metadata": {},
   "outputs": [],
   "source": []
  }
 ],
 "metadata": {
  "kernelspec": {
   "display_name": "Python 3",
   "language": "python",
   "name": "python3"
  },
  "language_info": {
   "codemirror_mode": {
    "name": "ipython",
    "version": 3
   },
   "file_extension": ".py",
   "mimetype": "text/x-python",
   "name": "python",
   "nbconvert_exporter": "python",
   "pygments_lexer": "ipython3",
   "version": "3.5.2"
  }
 },
 "nbformat": 4,
 "nbformat_minor": 2
}
