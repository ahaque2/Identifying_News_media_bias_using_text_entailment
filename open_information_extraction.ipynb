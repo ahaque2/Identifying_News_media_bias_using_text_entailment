{
 "cells": [
  {
   "cell_type": "code",
   "execution_count": 13,
   "metadata": {},
   "outputs": [],
   "source": [
    "from pyopenie import OpenIE5\n",
    "import pandas as pd\n",
    "import re\n",
    "import sys\n",
    "extractor = OpenIE5('http://localhost:8000')"
   ]
  },
  {
   "cell_type": "code",
   "execution_count": 14,
   "metadata": {},
   "outputs": [],
   "source": [
    "def get_quotes(sent):\n",
    "\n",
    "    #s = \"Head Tyrus Wong, ‘Bambi’ Artist Thwarted by Racial Bias, Dies at 106\"\n",
    "    single_quote_pattern = r\"‘(.*?)’\"\n",
    "    quotes_char = [r\"‘\", r'’']\n",
    "    quotes = re.findall(single_quote_pattern, sent, re.DOTALL)\n",
    "\n",
    "    for i in range(len(quotes_char)):\n",
    "        sent = re.sub(quotes_char[i], '', sent)\n",
    "        \n",
    "    return sent, quotes"
   ]
  },
  {
   "cell_type": "code",
   "execution_count": 44,
   "metadata": {},
   "outputs": [
    {
     "ename": "ConnectionError",
     "evalue": "('Connection aborted.', RemoteDisconnected('Remote end closed connection without response',))",
     "output_type": "error",
     "traceback": [
      "\u001b[0;31m---------------------------------------------------------------------------\u001b[0m",
      "\u001b[0;31mRemoteDisconnected\u001b[0m                        Traceback (most recent call last)",
      "\u001b[0;32m~/project/virtual_environment_1/lib/python3.5/site-packages/urllib3/connectionpool.py\u001b[0m in \u001b[0;36murlopen\u001b[0;34m(self, method, url, body, headers, retries, redirect, assert_same_host, timeout, pool_timeout, release_conn, chunked, body_pos, **response_kw)\u001b[0m\n\u001b[1;32m    599\u001b[0m                                                   \u001b[0mbody\u001b[0m\u001b[0;34m=\u001b[0m\u001b[0mbody\u001b[0m\u001b[0;34m,\u001b[0m \u001b[0mheaders\u001b[0m\u001b[0;34m=\u001b[0m\u001b[0mheaders\u001b[0m\u001b[0;34m,\u001b[0m\u001b[0;34m\u001b[0m\u001b[0m\n\u001b[0;32m--> 600\u001b[0;31m                                                   chunked=chunked)\n\u001b[0m\u001b[1;32m    601\u001b[0m \u001b[0;34m\u001b[0m\u001b[0m\n",
      "\u001b[0;32m~/project/virtual_environment_1/lib/python3.5/site-packages/urllib3/connectionpool.py\u001b[0m in \u001b[0;36m_make_request\u001b[0;34m(self, conn, method, url, timeout, chunked, **httplib_request_kw)\u001b[0m\n\u001b[1;32m    383\u001b[0m                     \u001b[0;31m# otherwise it looks like a programming error was the cause.\u001b[0m\u001b[0;34m\u001b[0m\u001b[0;34m\u001b[0m\u001b[0m\n\u001b[0;32m--> 384\u001b[0;31m                     \u001b[0msix\u001b[0m\u001b[0;34m.\u001b[0m\u001b[0mraise_from\u001b[0m\u001b[0;34m(\u001b[0m\u001b[0me\u001b[0m\u001b[0;34m,\u001b[0m \u001b[0;32mNone\u001b[0m\u001b[0;34m)\u001b[0m\u001b[0;34m\u001b[0m\u001b[0m\n\u001b[0m\u001b[1;32m    385\u001b[0m         \u001b[0;32mexcept\u001b[0m \u001b[0;34m(\u001b[0m\u001b[0mSocketTimeout\u001b[0m\u001b[0;34m,\u001b[0m \u001b[0mBaseSSLError\u001b[0m\u001b[0;34m,\u001b[0m \u001b[0mSocketError\u001b[0m\u001b[0;34m)\u001b[0m \u001b[0;32mas\u001b[0m \u001b[0me\u001b[0m\u001b[0;34m:\u001b[0m\u001b[0;34m\u001b[0m\u001b[0m\n",
      "\u001b[0;32m~/project/virtual_environment_1/lib/python3.5/site-packages/urllib3/packages/six.py\u001b[0m in \u001b[0;36mraise_from\u001b[0;34m(value, from_value)\u001b[0m\n",
      "\u001b[0;32m~/project/virtual_environment_1/lib/python3.5/site-packages/urllib3/connectionpool.py\u001b[0m in \u001b[0;36m_make_request\u001b[0;34m(self, conn, method, url, timeout, chunked, **httplib_request_kw)\u001b[0m\n\u001b[1;32m    379\u001b[0m                 \u001b[0;32mtry\u001b[0m\u001b[0;34m:\u001b[0m\u001b[0;34m\u001b[0m\u001b[0m\n\u001b[0;32m--> 380\u001b[0;31m                     \u001b[0mhttplib_response\u001b[0m \u001b[0;34m=\u001b[0m \u001b[0mconn\u001b[0m\u001b[0;34m.\u001b[0m\u001b[0mgetresponse\u001b[0m\u001b[0;34m(\u001b[0m\u001b[0;34m)\u001b[0m\u001b[0;34m\u001b[0m\u001b[0m\n\u001b[0m\u001b[1;32m    381\u001b[0m                 \u001b[0;32mexcept\u001b[0m \u001b[0mException\u001b[0m \u001b[0;32mas\u001b[0m \u001b[0me\u001b[0m\u001b[0;34m:\u001b[0m\u001b[0;34m\u001b[0m\u001b[0m\n",
      "\u001b[0;32m/usr/lib/python3.5/http/client.py\u001b[0m in \u001b[0;36mgetresponse\u001b[0;34m(self)\u001b[0m\n\u001b[1;32m   1212\u001b[0m             \u001b[0;32mtry\u001b[0m\u001b[0;34m:\u001b[0m\u001b[0;34m\u001b[0m\u001b[0m\n\u001b[0;32m-> 1213\u001b[0;31m                 \u001b[0mresponse\u001b[0m\u001b[0;34m.\u001b[0m\u001b[0mbegin\u001b[0m\u001b[0;34m(\u001b[0m\u001b[0;34m)\u001b[0m\u001b[0;34m\u001b[0m\u001b[0m\n\u001b[0m\u001b[1;32m   1214\u001b[0m             \u001b[0;32mexcept\u001b[0m \u001b[0mConnectionError\u001b[0m\u001b[0;34m:\u001b[0m\u001b[0;34m\u001b[0m\u001b[0m\n",
      "\u001b[0;32m/usr/lib/python3.5/http/client.py\u001b[0m in \u001b[0;36mbegin\u001b[0;34m(self)\u001b[0m\n\u001b[1;32m    306\u001b[0m         \u001b[0;32mwhile\u001b[0m \u001b[0;32mTrue\u001b[0m\u001b[0;34m:\u001b[0m\u001b[0;34m\u001b[0m\u001b[0m\n\u001b[0;32m--> 307\u001b[0;31m             \u001b[0mversion\u001b[0m\u001b[0;34m,\u001b[0m \u001b[0mstatus\u001b[0m\u001b[0;34m,\u001b[0m \u001b[0mreason\u001b[0m \u001b[0;34m=\u001b[0m \u001b[0mself\u001b[0m\u001b[0;34m.\u001b[0m\u001b[0m_read_status\u001b[0m\u001b[0;34m(\u001b[0m\u001b[0;34m)\u001b[0m\u001b[0;34m\u001b[0m\u001b[0m\n\u001b[0m\u001b[1;32m    308\u001b[0m             \u001b[0;32mif\u001b[0m \u001b[0mstatus\u001b[0m \u001b[0;34m!=\u001b[0m \u001b[0mCONTINUE\u001b[0m\u001b[0;34m:\u001b[0m\u001b[0;34m\u001b[0m\u001b[0m\n",
      "\u001b[0;32m/usr/lib/python3.5/http/client.py\u001b[0m in \u001b[0;36m_read_status\u001b[0;34m(self)\u001b[0m\n\u001b[1;32m    275\u001b[0m             \u001b[0;31m# sending a valid response.\u001b[0m\u001b[0;34m\u001b[0m\u001b[0;34m\u001b[0m\u001b[0m\n\u001b[0;32m--> 276\u001b[0;31m             raise RemoteDisconnected(\"Remote end closed connection without\"\n\u001b[0m\u001b[1;32m    277\u001b[0m                                      \" response\")\n",
      "\u001b[0;31mRemoteDisconnected\u001b[0m: Remote end closed connection without response",
      "\nDuring handling of the above exception, another exception occurred:\n",
      "\u001b[0;31mProtocolError\u001b[0m                             Traceback (most recent call last)",
      "\u001b[0;32m~/project/virtual_environment_1/lib/python3.5/site-packages/requests/adapters.py\u001b[0m in \u001b[0;36msend\u001b[0;34m(self, request, stream, timeout, verify, cert, proxies)\u001b[0m\n\u001b[1;32m    448\u001b[0m                     \u001b[0mretries\u001b[0m\u001b[0;34m=\u001b[0m\u001b[0mself\u001b[0m\u001b[0;34m.\u001b[0m\u001b[0mmax_retries\u001b[0m\u001b[0;34m,\u001b[0m\u001b[0;34m\u001b[0m\u001b[0m\n\u001b[0;32m--> 449\u001b[0;31m                     \u001b[0mtimeout\u001b[0m\u001b[0;34m=\u001b[0m\u001b[0mtimeout\u001b[0m\u001b[0;34m\u001b[0m\u001b[0m\n\u001b[0m\u001b[1;32m    450\u001b[0m                 )\n",
      "\u001b[0;32m~/project/virtual_environment_1/lib/python3.5/site-packages/urllib3/connectionpool.py\u001b[0m in \u001b[0;36murlopen\u001b[0;34m(self, method, url, body, headers, retries, redirect, assert_same_host, timeout, pool_timeout, release_conn, chunked, body_pos, **response_kw)\u001b[0m\n\u001b[1;32m    637\u001b[0m             retries = retries.increment(method, url, error=e, _pool=self,\n\u001b[0;32m--> 638\u001b[0;31m                                         _stacktrace=sys.exc_info()[2])\n\u001b[0m\u001b[1;32m    639\u001b[0m             \u001b[0mretries\u001b[0m\u001b[0;34m.\u001b[0m\u001b[0msleep\u001b[0m\u001b[0;34m(\u001b[0m\u001b[0;34m)\u001b[0m\u001b[0;34m\u001b[0m\u001b[0m\n",
      "\u001b[0;32m~/project/virtual_environment_1/lib/python3.5/site-packages/urllib3/util/retry.py\u001b[0m in \u001b[0;36mincrement\u001b[0;34m(self, method, url, response, error, _pool, _stacktrace)\u001b[0m\n\u001b[1;32m    367\u001b[0m             \u001b[0;32mif\u001b[0m \u001b[0mread\u001b[0m \u001b[0;32mis\u001b[0m \u001b[0;32mFalse\u001b[0m \u001b[0;32mor\u001b[0m \u001b[0;32mnot\u001b[0m \u001b[0mself\u001b[0m\u001b[0;34m.\u001b[0m\u001b[0m_is_method_retryable\u001b[0m\u001b[0;34m(\u001b[0m\u001b[0mmethod\u001b[0m\u001b[0;34m)\u001b[0m\u001b[0;34m:\u001b[0m\u001b[0;34m\u001b[0m\u001b[0m\n\u001b[0;32m--> 368\u001b[0;31m                 \u001b[0;32mraise\u001b[0m \u001b[0msix\u001b[0m\u001b[0;34m.\u001b[0m\u001b[0mreraise\u001b[0m\u001b[0;34m(\u001b[0m\u001b[0mtype\u001b[0m\u001b[0;34m(\u001b[0m\u001b[0merror\u001b[0m\u001b[0;34m)\u001b[0m\u001b[0;34m,\u001b[0m \u001b[0merror\u001b[0m\u001b[0;34m,\u001b[0m \u001b[0m_stacktrace\u001b[0m\u001b[0;34m)\u001b[0m\u001b[0;34m\u001b[0m\u001b[0m\n\u001b[0m\u001b[1;32m    369\u001b[0m             \u001b[0;32melif\u001b[0m \u001b[0mread\u001b[0m \u001b[0;32mis\u001b[0m \u001b[0;32mnot\u001b[0m \u001b[0;32mNone\u001b[0m\u001b[0;34m:\u001b[0m\u001b[0;34m\u001b[0m\u001b[0m\n",
      "\u001b[0;32m~/project/virtual_environment_1/lib/python3.5/site-packages/urllib3/packages/six.py\u001b[0m in \u001b[0;36mreraise\u001b[0;34m(tp, value, tb)\u001b[0m\n\u001b[1;32m    684\u001b[0m         \u001b[0;32mif\u001b[0m \u001b[0mvalue\u001b[0m\u001b[0;34m.\u001b[0m\u001b[0m__traceback__\u001b[0m \u001b[0;32mis\u001b[0m \u001b[0;32mnot\u001b[0m \u001b[0mtb\u001b[0m\u001b[0;34m:\u001b[0m\u001b[0;34m\u001b[0m\u001b[0m\n\u001b[0;32m--> 685\u001b[0;31m             \u001b[0;32mraise\u001b[0m \u001b[0mvalue\u001b[0m\u001b[0;34m.\u001b[0m\u001b[0mwith_traceback\u001b[0m\u001b[0;34m(\u001b[0m\u001b[0mtb\u001b[0m\u001b[0;34m)\u001b[0m\u001b[0;34m\u001b[0m\u001b[0m\n\u001b[0m\u001b[1;32m    686\u001b[0m         \u001b[0;32mraise\u001b[0m \u001b[0mvalue\u001b[0m\u001b[0;34m\u001b[0m\u001b[0m\n",
      "\u001b[0;32m~/project/virtual_environment_1/lib/python3.5/site-packages/urllib3/connectionpool.py\u001b[0m in \u001b[0;36murlopen\u001b[0;34m(self, method, url, body, headers, retries, redirect, assert_same_host, timeout, pool_timeout, release_conn, chunked, body_pos, **response_kw)\u001b[0m\n\u001b[1;32m    599\u001b[0m                                                   \u001b[0mbody\u001b[0m\u001b[0;34m=\u001b[0m\u001b[0mbody\u001b[0m\u001b[0;34m,\u001b[0m \u001b[0mheaders\u001b[0m\u001b[0;34m=\u001b[0m\u001b[0mheaders\u001b[0m\u001b[0;34m,\u001b[0m\u001b[0;34m\u001b[0m\u001b[0m\n\u001b[0;32m--> 600\u001b[0;31m                                                   chunked=chunked)\n\u001b[0m\u001b[1;32m    601\u001b[0m \u001b[0;34m\u001b[0m\u001b[0m\n",
      "\u001b[0;32m~/project/virtual_environment_1/lib/python3.5/site-packages/urllib3/connectionpool.py\u001b[0m in \u001b[0;36m_make_request\u001b[0;34m(self, conn, method, url, timeout, chunked, **httplib_request_kw)\u001b[0m\n\u001b[1;32m    383\u001b[0m                     \u001b[0;31m# otherwise it looks like a programming error was the cause.\u001b[0m\u001b[0;34m\u001b[0m\u001b[0;34m\u001b[0m\u001b[0m\n\u001b[0;32m--> 384\u001b[0;31m                     \u001b[0msix\u001b[0m\u001b[0;34m.\u001b[0m\u001b[0mraise_from\u001b[0m\u001b[0;34m(\u001b[0m\u001b[0me\u001b[0m\u001b[0;34m,\u001b[0m \u001b[0;32mNone\u001b[0m\u001b[0;34m)\u001b[0m\u001b[0;34m\u001b[0m\u001b[0m\n\u001b[0m\u001b[1;32m    385\u001b[0m         \u001b[0;32mexcept\u001b[0m \u001b[0;34m(\u001b[0m\u001b[0mSocketTimeout\u001b[0m\u001b[0;34m,\u001b[0m \u001b[0mBaseSSLError\u001b[0m\u001b[0;34m,\u001b[0m \u001b[0mSocketError\u001b[0m\u001b[0;34m)\u001b[0m \u001b[0;32mas\u001b[0m \u001b[0me\u001b[0m\u001b[0;34m:\u001b[0m\u001b[0;34m\u001b[0m\u001b[0m\n",
      "\u001b[0;32m~/project/virtual_environment_1/lib/python3.5/site-packages/urllib3/packages/six.py\u001b[0m in \u001b[0;36mraise_from\u001b[0;34m(value, from_value)\u001b[0m\n",
      "\u001b[0;32m~/project/virtual_environment_1/lib/python3.5/site-packages/urllib3/connectionpool.py\u001b[0m in \u001b[0;36m_make_request\u001b[0;34m(self, conn, method, url, timeout, chunked, **httplib_request_kw)\u001b[0m\n\u001b[1;32m    379\u001b[0m                 \u001b[0;32mtry\u001b[0m\u001b[0;34m:\u001b[0m\u001b[0;34m\u001b[0m\u001b[0m\n\u001b[0;32m--> 380\u001b[0;31m                     \u001b[0mhttplib_response\u001b[0m \u001b[0;34m=\u001b[0m \u001b[0mconn\u001b[0m\u001b[0;34m.\u001b[0m\u001b[0mgetresponse\u001b[0m\u001b[0;34m(\u001b[0m\u001b[0;34m)\u001b[0m\u001b[0;34m\u001b[0m\u001b[0m\n\u001b[0m\u001b[1;32m    381\u001b[0m                 \u001b[0;32mexcept\u001b[0m \u001b[0mException\u001b[0m \u001b[0;32mas\u001b[0m \u001b[0me\u001b[0m\u001b[0;34m:\u001b[0m\u001b[0;34m\u001b[0m\u001b[0m\n",
      "\u001b[0;32m/usr/lib/python3.5/http/client.py\u001b[0m in \u001b[0;36mgetresponse\u001b[0;34m(self)\u001b[0m\n\u001b[1;32m   1212\u001b[0m             \u001b[0;32mtry\u001b[0m\u001b[0;34m:\u001b[0m\u001b[0;34m\u001b[0m\u001b[0m\n\u001b[0;32m-> 1213\u001b[0;31m                 \u001b[0mresponse\u001b[0m\u001b[0;34m.\u001b[0m\u001b[0mbegin\u001b[0m\u001b[0;34m(\u001b[0m\u001b[0;34m)\u001b[0m\u001b[0;34m\u001b[0m\u001b[0m\n\u001b[0m\u001b[1;32m   1214\u001b[0m             \u001b[0;32mexcept\u001b[0m \u001b[0mConnectionError\u001b[0m\u001b[0;34m:\u001b[0m\u001b[0;34m\u001b[0m\u001b[0m\n",
      "\u001b[0;32m/usr/lib/python3.5/http/client.py\u001b[0m in \u001b[0;36mbegin\u001b[0;34m(self)\u001b[0m\n\u001b[1;32m    306\u001b[0m         \u001b[0;32mwhile\u001b[0m \u001b[0;32mTrue\u001b[0m\u001b[0;34m:\u001b[0m\u001b[0;34m\u001b[0m\u001b[0m\n\u001b[0;32m--> 307\u001b[0;31m             \u001b[0mversion\u001b[0m\u001b[0;34m,\u001b[0m \u001b[0mstatus\u001b[0m\u001b[0;34m,\u001b[0m \u001b[0mreason\u001b[0m \u001b[0;34m=\u001b[0m \u001b[0mself\u001b[0m\u001b[0;34m.\u001b[0m\u001b[0m_read_status\u001b[0m\u001b[0;34m(\u001b[0m\u001b[0;34m)\u001b[0m\u001b[0;34m\u001b[0m\u001b[0m\n\u001b[0m\u001b[1;32m    308\u001b[0m             \u001b[0;32mif\u001b[0m \u001b[0mstatus\u001b[0m \u001b[0;34m!=\u001b[0m \u001b[0mCONTINUE\u001b[0m\u001b[0;34m:\u001b[0m\u001b[0;34m\u001b[0m\u001b[0m\n",
      "\u001b[0;32m/usr/lib/python3.5/http/client.py\u001b[0m in \u001b[0;36m_read_status\u001b[0;34m(self)\u001b[0m\n\u001b[1;32m    275\u001b[0m             \u001b[0;31m# sending a valid response.\u001b[0m\u001b[0;34m\u001b[0m\u001b[0;34m\u001b[0m\u001b[0m\n\u001b[0;32m--> 276\u001b[0;31m             raise RemoteDisconnected(\"Remote end closed connection without\"\n\u001b[0m\u001b[1;32m    277\u001b[0m                                      \" response\")\n",
      "\u001b[0;31mProtocolError\u001b[0m: ('Connection aborted.', RemoteDisconnected('Remote end closed connection without response',))",
      "\nDuring handling of the above exception, another exception occurred:\n",
      "\u001b[0;31mConnectionError\u001b[0m                           Traceback (most recent call last)",
      "\u001b[0;32m<ipython-input-44-74d7e3bbc914>\u001b[0m in \u001b[0;36m<module>\u001b[0;34m\u001b[0m\n\u001b[0;32m----> 1\u001b[0;31m \u001b[0mextractions\u001b[0m \u001b[0;34m=\u001b[0m \u001b[0mextractor\u001b[0m\u001b[0;34m.\u001b[0m\u001b[0mextract\u001b[0m\u001b[0;34m(\u001b[0m\u001b[0;34m\"This\"\u001b[0m\u001b[0;34m)\u001b[0m\u001b[0;34m\u001b[0m\u001b[0m\n\u001b[0m\u001b[1;32m      2\u001b[0m \u001b[0mextractions\u001b[0m\u001b[0;34m\u001b[0m\u001b[0m\n",
      "\u001b[0;32m~/project/virtual_environment_1/lib/python3.5/site-packages/pyopenie/openie.py\u001b[0m in \u001b[0;36mextract\u001b[0;34m(self, text, properties)\u001b[0m\n\u001b[1;32m     27\u001b[0m             self.server_url + self.extract_context, params={\n\u001b[1;32m     28\u001b[0m                 \u001b[0;34m'properties'\u001b[0m\u001b[0;34m:\u001b[0m \u001b[0mstr\u001b[0m\u001b[0;34m(\u001b[0m\u001b[0mproperties\u001b[0m\u001b[0;34m)\u001b[0m\u001b[0;34m\u001b[0m\u001b[0m\n\u001b[0;32m---> 29\u001b[0;31m             }, data=data, headers={'Connection': 'close'})\n\u001b[0m\u001b[1;32m     30\u001b[0m \u001b[0;34m\u001b[0m\u001b[0m\n\u001b[1;32m     31\u001b[0m         \u001b[0;32mreturn\u001b[0m \u001b[0mjson\u001b[0m\u001b[0;34m.\u001b[0m\u001b[0mloads\u001b[0m\u001b[0;34m(\u001b[0m\u001b[0mr\u001b[0m\u001b[0;34m.\u001b[0m\u001b[0mtext\u001b[0m\u001b[0;34m)\u001b[0m\u001b[0;34m\u001b[0m\u001b[0m\n",
      "\u001b[0;32m~/project/virtual_environment_1/lib/python3.5/site-packages/requests/api.py\u001b[0m in \u001b[0;36mpost\u001b[0;34m(url, data, json, **kwargs)\u001b[0m\n\u001b[1;32m    114\u001b[0m     \"\"\"\n\u001b[1;32m    115\u001b[0m \u001b[0;34m\u001b[0m\u001b[0m\n\u001b[0;32m--> 116\u001b[0;31m     \u001b[0;32mreturn\u001b[0m \u001b[0mrequest\u001b[0m\u001b[0;34m(\u001b[0m\u001b[0;34m'post'\u001b[0m\u001b[0;34m,\u001b[0m \u001b[0murl\u001b[0m\u001b[0;34m,\u001b[0m \u001b[0mdata\u001b[0m\u001b[0;34m=\u001b[0m\u001b[0mdata\u001b[0m\u001b[0;34m,\u001b[0m \u001b[0mjson\u001b[0m\u001b[0;34m=\u001b[0m\u001b[0mjson\u001b[0m\u001b[0;34m,\u001b[0m \u001b[0;34m**\u001b[0m\u001b[0mkwargs\u001b[0m\u001b[0;34m)\u001b[0m\u001b[0;34m\u001b[0m\u001b[0m\n\u001b[0m\u001b[1;32m    117\u001b[0m \u001b[0;34m\u001b[0m\u001b[0m\n\u001b[1;32m    118\u001b[0m \u001b[0;34m\u001b[0m\u001b[0m\n",
      "\u001b[0;32m~/project/virtual_environment_1/lib/python3.5/site-packages/requests/api.py\u001b[0m in \u001b[0;36mrequest\u001b[0;34m(method, url, **kwargs)\u001b[0m\n\u001b[1;32m     58\u001b[0m     \u001b[0;31m# cases, and look like a memory leak in others.\u001b[0m\u001b[0;34m\u001b[0m\u001b[0;34m\u001b[0m\u001b[0m\n\u001b[1;32m     59\u001b[0m     \u001b[0;32mwith\u001b[0m \u001b[0msessions\u001b[0m\u001b[0;34m.\u001b[0m\u001b[0mSession\u001b[0m\u001b[0;34m(\u001b[0m\u001b[0;34m)\u001b[0m \u001b[0;32mas\u001b[0m \u001b[0msession\u001b[0m\u001b[0;34m:\u001b[0m\u001b[0;34m\u001b[0m\u001b[0m\n\u001b[0;32m---> 60\u001b[0;31m         \u001b[0;32mreturn\u001b[0m \u001b[0msession\u001b[0m\u001b[0;34m.\u001b[0m\u001b[0mrequest\u001b[0m\u001b[0;34m(\u001b[0m\u001b[0mmethod\u001b[0m\u001b[0;34m=\u001b[0m\u001b[0mmethod\u001b[0m\u001b[0;34m,\u001b[0m \u001b[0murl\u001b[0m\u001b[0;34m=\u001b[0m\u001b[0murl\u001b[0m\u001b[0;34m,\u001b[0m \u001b[0;34m**\u001b[0m\u001b[0mkwargs\u001b[0m\u001b[0;34m)\u001b[0m\u001b[0;34m\u001b[0m\u001b[0m\n\u001b[0m\u001b[1;32m     61\u001b[0m \u001b[0;34m\u001b[0m\u001b[0m\n\u001b[1;32m     62\u001b[0m \u001b[0;34m\u001b[0m\u001b[0m\n",
      "\u001b[0;32m~/project/virtual_environment_1/lib/python3.5/site-packages/requests/sessions.py\u001b[0m in \u001b[0;36mrequest\u001b[0;34m(self, method, url, params, data, headers, cookies, files, auth, timeout, allow_redirects, proxies, hooks, stream, verify, cert, json)\u001b[0m\n\u001b[1;32m    531\u001b[0m         }\n\u001b[1;32m    532\u001b[0m         \u001b[0msend_kwargs\u001b[0m\u001b[0;34m.\u001b[0m\u001b[0mupdate\u001b[0m\u001b[0;34m(\u001b[0m\u001b[0msettings\u001b[0m\u001b[0;34m)\u001b[0m\u001b[0;34m\u001b[0m\u001b[0m\n\u001b[0;32m--> 533\u001b[0;31m         \u001b[0mresp\u001b[0m \u001b[0;34m=\u001b[0m \u001b[0mself\u001b[0m\u001b[0;34m.\u001b[0m\u001b[0msend\u001b[0m\u001b[0;34m(\u001b[0m\u001b[0mprep\u001b[0m\u001b[0;34m,\u001b[0m \u001b[0;34m**\u001b[0m\u001b[0msend_kwargs\u001b[0m\u001b[0;34m)\u001b[0m\u001b[0;34m\u001b[0m\u001b[0m\n\u001b[0m\u001b[1;32m    534\u001b[0m \u001b[0;34m\u001b[0m\u001b[0m\n\u001b[1;32m    535\u001b[0m         \u001b[0;32mreturn\u001b[0m \u001b[0mresp\u001b[0m\u001b[0;34m\u001b[0m\u001b[0m\n",
      "\u001b[0;32m~/project/virtual_environment_1/lib/python3.5/site-packages/requests/sessions.py\u001b[0m in \u001b[0;36msend\u001b[0;34m(self, request, **kwargs)\u001b[0m\n\u001b[1;32m    644\u001b[0m \u001b[0;34m\u001b[0m\u001b[0m\n\u001b[1;32m    645\u001b[0m         \u001b[0;31m# Send the request\u001b[0m\u001b[0;34m\u001b[0m\u001b[0;34m\u001b[0m\u001b[0m\n\u001b[0;32m--> 646\u001b[0;31m         \u001b[0mr\u001b[0m \u001b[0;34m=\u001b[0m \u001b[0madapter\u001b[0m\u001b[0;34m.\u001b[0m\u001b[0msend\u001b[0m\u001b[0;34m(\u001b[0m\u001b[0mrequest\u001b[0m\u001b[0;34m,\u001b[0m \u001b[0;34m**\u001b[0m\u001b[0mkwargs\u001b[0m\u001b[0;34m)\u001b[0m\u001b[0;34m\u001b[0m\u001b[0m\n\u001b[0m\u001b[1;32m    647\u001b[0m \u001b[0;34m\u001b[0m\u001b[0m\n\u001b[1;32m    648\u001b[0m         \u001b[0;31m# Total elapsed time of the request (approximately)\u001b[0m\u001b[0;34m\u001b[0m\u001b[0;34m\u001b[0m\u001b[0m\n",
      "\u001b[0;32m~/project/virtual_environment_1/lib/python3.5/site-packages/requests/adapters.py\u001b[0m in \u001b[0;36msend\u001b[0;34m(self, request, stream, timeout, verify, cert, proxies)\u001b[0m\n\u001b[1;32m    496\u001b[0m \u001b[0;34m\u001b[0m\u001b[0m\n\u001b[1;32m    497\u001b[0m         \u001b[0;32mexcept\u001b[0m \u001b[0;34m(\u001b[0m\u001b[0mProtocolError\u001b[0m\u001b[0;34m,\u001b[0m \u001b[0msocket\u001b[0m\u001b[0;34m.\u001b[0m\u001b[0merror\u001b[0m\u001b[0;34m)\u001b[0m \u001b[0;32mas\u001b[0m \u001b[0merr\u001b[0m\u001b[0;34m:\u001b[0m\u001b[0;34m\u001b[0m\u001b[0m\n\u001b[0;32m--> 498\u001b[0;31m             \u001b[0;32mraise\u001b[0m \u001b[0mConnectionError\u001b[0m\u001b[0;34m(\u001b[0m\u001b[0merr\u001b[0m\u001b[0;34m,\u001b[0m \u001b[0mrequest\u001b[0m\u001b[0;34m=\u001b[0m\u001b[0mrequest\u001b[0m\u001b[0;34m)\u001b[0m\u001b[0;34m\u001b[0m\u001b[0m\n\u001b[0m\u001b[1;32m    499\u001b[0m \u001b[0;34m\u001b[0m\u001b[0m\n\u001b[1;32m    500\u001b[0m         \u001b[0;32mexcept\u001b[0m \u001b[0mMaxRetryError\u001b[0m \u001b[0;32mas\u001b[0m \u001b[0me\u001b[0m\u001b[0;34m:\u001b[0m\u001b[0;34m\u001b[0m\u001b[0m\n",
      "\u001b[0;31mConnectionError\u001b[0m: ('Connection aborted.', RemoteDisconnected('Remote end closed connection without response',))"
     ]
    }
   ],
   "source": [
    "extractions = extractor.extract(\"This\")\n",
    "extractions"
   ]
  },
  {
   "cell_type": "code",
   "execution_count": 16,
   "metadata": {},
   "outputs": [],
   "source": [
    "data = pd.read_csv('data/cluster_0_news_unprocessed_with_labels.csv')\n",
    "sent2 = data['sent2']"
   ]
  },
  {
   "cell_type": "code",
   "execution_count": 73,
   "metadata": {},
   "outputs": [
    {
     "name": "stdout",
     "output_type": "stream",
     "text": [
      "Sentence:  [The company, which currently employs 107, 300 staff, confirmed that the first set of employees to be laid off will be informed within the next 60 days, whilst further workforce cuts will take place throughout 2017.   \n",
      "\n",
      "tup =  [{'confidence': 0.893884626924355, 'rel': 'will be informed', 'arg2': ['within the next 60 days', 'whilst further workforce cuts will take place throughout 2017'], 'arg1': 'the first set of employees'}] \n",
      "\n",
      "Sentence:  whilst further workforce cuts will take place throughout 2017 \n",
      "\n",
      "tup =  [{'confidence': 0.893884626924355, 'rel': 'will be informed', 'arg2': ['within the next 60 days', 'whilst further workforce cuts will take place throughout 2017'], 'arg1': 'the first set of employees'}, {'confidence': 0.9111779447320654, 'rel': 'will take', 'arg2': ['place', 'throughout 2017'], 'arg1': 'further workforce cuts'}] \n",
      "\n",
      "tuple  [{'confidence': 0.893884626924355, 'rel': 'will be informed', 'arg2': ['within the next 60 days', 'whilst further workforce cuts will take place throughout 2017'], 'arg1': 'the first set of employees'}, {'confidence': 0.9111779447320654, 'rel': 'will take', 'arg2': ['place', 'throughout 2017'], 'arg1': 'further workforce cuts'}] \n",
      "\n",
      "tuple  [{'confidence': 0.893884626924355, 'rel': 'will be informed', 'arg2': ['within the next 60 days', 'whilst further workforce cuts will take place throughout 2017'], 'arg1': 'the first set of employees'}, {'confidence': 0.9111779447320654, 'rel': 'will take', 'arg2': ['place', 'throughout 2017'], 'arg1': 'further workforce cuts'}] \n",
      "\n",
      "tup =  [{'confidence': 0.893884626924355, 'rel': 'will be informed', 'arg2': ['within the next 60 days', 'whilst further workforce cuts will take place throughout 2017'], 'arg1': 'the first set of employees'}, {'confidence': 0.9111779447320654, 'rel': 'will take', 'arg2': ['place', 'throughout 2017'], 'arg1': 'further workforce cuts'}, {'confidence': 0.7987739266772069, 'rel': 'employs', 'arg2': ['107', 'currently'], 'arg1': 'The company'}] \n",
      "\n",
      "tuple  [{'confidence': 0.893884626924355, 'rel': 'will be informed', 'arg2': ['within the next 60 days', 'whilst further workforce cuts will take place throughout 2017'], 'arg1': 'the first set of employees'}, {'confidence': 0.9111779447320654, 'rel': 'will take', 'arg2': ['place', 'throughout 2017'], 'arg1': 'further workforce cuts'}, {'confidence': 0.7987739266772069, 'rel': 'employs', 'arg2': ['107', 'currently'], 'arg1': 'The company'}] \n",
      "\n",
      "tup =  [{'confidence': 0.893884626924355, 'rel': 'will be informed', 'arg2': ['within the next 60 days', 'whilst further workforce cuts will take place throughout 2017'], 'arg1': 'the first set of employees'}, {'confidence': 0.9111779447320654, 'rel': 'will take', 'arg2': ['place', 'throughout 2017'], 'arg1': 'further workforce cuts'}, {'confidence': 0.7987739266772069, 'rel': 'employs', 'arg2': ['107', 'currently'], 'arg1': 'The company'}, {'confidence': 0.8888883252632631, 'rel': 'confirmed', 'arg2': ['that the first set of employees to be laid off will be informed within the next 60 days, whilst further workforce cuts will take place throughout 2017'], 'arg1': 'The company, which currently employs 107, 300 staff'}] \n",
      "\n",
      "Sentence:  The company, which currently employs 107, 300 staff \n",
      "\n",
      "tup =  [{'confidence': 0.893884626924355, 'rel': 'will be informed', 'arg2': ['within the next 60 days', 'whilst further workforce cuts will take place throughout 2017'], 'arg1': 'the first set of employees'}, {'confidence': 0.9111779447320654, 'rel': 'will take', 'arg2': ['place', 'throughout 2017'], 'arg1': 'further workforce cuts'}, {'confidence': 0.7987739266772069, 'rel': 'employs', 'arg2': ['107', 'currently'], 'arg1': 'The company'}, {'confidence': 0.8888883252632631, 'rel': 'confirmed', 'arg2': ['that the first set of employees to be laid off will be informed within the next 60 days, whilst further workforce cuts will take place throughout 2017'], 'arg1': 'The company, which currently employs 107, 300 staff'}, {'confidence': 0.8321465232489272, 'rel': 'employs', 'arg2': ['107', 'currently'], 'arg1': 'The company'}] \n",
      "\n",
      "tuple  [{'confidence': 0.893884626924355, 'rel': 'will be informed', 'arg2': ['within the next 60 days', 'whilst further workforce cuts will take place throughout 2017'], 'arg1': 'the first set of employees'}, {'confidence': 0.9111779447320654, 'rel': 'will take', 'arg2': ['place', 'throughout 2017'], 'arg1': 'further workforce cuts'}, {'confidence': 0.7987739266772069, 'rel': 'employs', 'arg2': ['107', 'currently'], 'arg1': 'The company'}, {'confidence': 0.8888883252632631, 'rel': 'confirmed', 'arg2': ['that the first set of employees to be laid off will be informed within the next 60 days, whilst further workforce cuts will take place throughout 2017'], 'arg1': 'The company, which currently employs 107, 300 staff'}, {'confidence': 0.8321465232489272, 'rel': 'employs', 'arg2': ['107', 'currently'], 'arg1': 'The company'}] \n",
      "\n",
      "Sentence:  that the first set of employees to be laid off will be informed within the next 60 days, whilst further workforce cuts will take place throughout 2017 \n",
      "\n",
      "tup =  [{'confidence': 0.893884626924355, 'rel': 'will be informed', 'arg2': ['within the next 60 days', 'whilst further workforce cuts will take place throughout 2017'], 'arg1': 'the first set of employees'}, {'confidence': 0.9111779447320654, 'rel': 'will take', 'arg2': ['place', 'throughout 2017'], 'arg1': 'further workforce cuts'}, {'confidence': 0.7987739266772069, 'rel': 'employs', 'arg2': ['107', 'currently'], 'arg1': 'The company'}, {'confidence': 0.8888883252632631, 'rel': 'confirmed', 'arg2': ['that the first set of employees to be laid off will be informed within the next 60 days, whilst further workforce cuts will take place throughout 2017'], 'arg1': 'The company, which currently employs 107, 300 staff'}, {'confidence': 0.8321465232489272, 'rel': 'employs', 'arg2': ['107', 'currently'], 'arg1': 'The company'}, {'confidence': 0.9111779447320654, 'rel': 'will take', 'arg2': ['place', 'throughout 2017'], 'arg1': 'further workforce cuts'}] \n",
      "\n",
      "tuple  [{'confidence': 0.893884626924355, 'rel': 'will be informed', 'arg2': ['within the next 60 days', 'whilst further workforce cuts will take place throughout 2017'], 'arg1': 'the first set of employees'}, {'confidence': 0.9111779447320654, 'rel': 'will take', 'arg2': ['place', 'throughout 2017'], 'arg1': 'further workforce cuts'}, {'confidence': 0.7987739266772069, 'rel': 'employs', 'arg2': ['107', 'currently'], 'arg1': 'The company'}, {'confidence': 0.8888883252632631, 'rel': 'confirmed', 'arg2': ['that the first set of employees to be laid off will be informed within the next 60 days, whilst further workforce cuts will take place throughout 2017'], 'arg1': 'The company, which currently employs 107, 300 staff'}, {'confidence': 0.8321465232489272, 'rel': 'employs', 'arg2': ['107', 'currently'], 'arg1': 'The company'}, {'confidence': 0.9111779447320654, 'rel': 'will take', 'arg2': ['place', 'throughout 2017'], 'arg1': 'further workforce cuts'}] \n",
      "\n",
      "tup =  [{'confidence': 0.893884626924355, 'rel': 'will be informed', 'arg2': ['within the next 60 days', 'whilst further workforce cuts will take place throughout 2017'], 'arg1': 'the first set of employees'}, {'confidence': 0.9111779447320654, 'rel': 'will take', 'arg2': ['place', 'throughout 2017'], 'arg1': 'further workforce cuts'}, {'confidence': 0.7987739266772069, 'rel': 'employs', 'arg2': ['107', 'currently'], 'arg1': 'The company'}, {'confidence': 0.8888883252632631, 'rel': 'confirmed', 'arg2': ['that the first set of employees to be laid off will be informed within the next 60 days, whilst further workforce cuts will take place throughout 2017'], 'arg1': 'The company, which currently employs 107, 300 staff'}, {'confidence': 0.8321465232489272, 'rel': 'employs', 'arg2': ['107', 'currently'], 'arg1': 'The company'}, {'confidence': 0.9111779447320654, 'rel': 'will take', 'arg2': ['place', 'throughout 2017'], 'arg1': 'further workforce cuts'}, {'confidence': 0.7852615174453589, 'rel': 'to be laid off', 'arg2': [], 'arg1': 'the first set of employees'}] \n",
      "\n",
      "tuple  [{'confidence': 0.893884626924355, 'rel': 'will be informed', 'arg2': ['within the next 60 days', 'whilst further workforce cuts will take place throughout 2017'], 'arg1': 'the first set of employees'}, {'confidence': 0.9111779447320654, 'rel': 'will take', 'arg2': ['place', 'throughout 2017'], 'arg1': 'further workforce cuts'}, {'confidence': 0.7987739266772069, 'rel': 'employs', 'arg2': ['107', 'currently'], 'arg1': 'The company'}, {'confidence': 0.8888883252632631, 'rel': 'confirmed', 'arg2': ['that the first set of employees to be laid off will be informed within the next 60 days, whilst further workforce cuts will take place throughout 2017'], 'arg1': 'The company, which currently employs 107, 300 staff'}, {'confidence': 0.8321465232489272, 'rel': 'employs', 'arg2': ['107', 'currently'], 'arg1': 'The company'}, {'confidence': 0.9111779447320654, 'rel': 'will take', 'arg2': ['place', 'throughout 2017'], 'arg1': 'further workforce cuts'}, {'confidence': 0.7852615174453589, 'rel': 'to be laid off', 'arg2': [], 'arg1': 'the first set of employees'}] \n",
      "\n",
      "tuple  [{'confidence': 0.893884626924355, 'rel': 'will be informed', 'arg2': ['within the next 60 days', 'whilst further workforce cuts will take place throughout 2017'], 'arg1': 'the first set of employees'}, {'confidence': 0.9111779447320654, 'rel': 'will take', 'arg2': ['place', 'throughout 2017'], 'arg1': 'further workforce cuts'}, {'confidence': 0.7987739266772069, 'rel': 'employs', 'arg2': ['107', 'currently'], 'arg1': 'The company'}, {'confidence': 0.8888883252632631, 'rel': 'confirmed', 'arg2': ['that the first set of employees to be laid off will be informed within the next 60 days, whilst further workforce cuts will take place throughout 2017'], 'arg1': 'The company, which currently employs 107, 300 staff'}, {'confidence': 0.8321465232489272, 'rel': 'employs', 'arg2': ['107', 'currently'], 'arg1': 'The company'}, {'confidence': 0.9111779447320654, 'rel': 'will take', 'arg2': ['place', 'throughout 2017'], 'arg1': 'further workforce cuts'}, {'confidence': 0.7852615174453589, 'rel': 'to be laid off', 'arg2': [], 'arg1': 'the first set of employees'}] \n",
      "\n",
      "tup =  [{'confidence': 0.893884626924355, 'rel': 'will be informed', 'arg2': ['within the next 60 days', 'whilst further workforce cuts will take place throughout 2017'], 'arg1': 'the first set of employees'}, {'confidence': 0.9111779447320654, 'rel': 'will take', 'arg2': ['place', 'throughout 2017'], 'arg1': 'further workforce cuts'}, {'confidence': 0.7987739266772069, 'rel': 'employs', 'arg2': ['107', 'currently'], 'arg1': 'The company'}, {'confidence': 0.8888883252632631, 'rel': 'confirmed', 'arg2': ['that the first set of employees to be laid off will be informed within the next 60 days, whilst further workforce cuts will take place throughout 2017'], 'arg1': 'The company, which currently employs 107, 300 staff'}, {'confidence': 0.8321465232489272, 'rel': 'employs', 'arg2': ['107', 'currently'], 'arg1': 'The company'}, {'confidence': 0.9111779447320654, 'rel': 'will take', 'arg2': ['place', 'throughout 2017'], 'arg1': 'further workforce cuts'}, {'confidence': 0.7852615174453589, 'rel': 'to be laid off', 'arg2': [], 'arg1': 'the first set of employees'}, {'confidence': 0.9111779447320654, 'rel': 'will take', 'arg2': ['place', 'throughout 2017'], 'arg1': 'further workforce cuts'}] \n",
      "\n"
     ]
    },
    {
     "name": "stdout",
     "output_type": "stream",
     "text": [
      "tuple  [{'confidence': 0.893884626924355, 'rel': 'will be informed', 'arg2': ['within the next 60 days', 'whilst further workforce cuts will take place throughout 2017'], 'arg1': 'the first set of employees'}, {'confidence': 0.9111779447320654, 'rel': 'will take', 'arg2': ['place', 'throughout 2017'], 'arg1': 'further workforce cuts'}, {'confidence': 0.7987739266772069, 'rel': 'employs', 'arg2': ['107', 'currently'], 'arg1': 'The company'}, {'confidence': 0.8888883252632631, 'rel': 'confirmed', 'arg2': ['that the first set of employees to be laid off will be informed within the next 60 days, whilst further workforce cuts will take place throughout 2017'], 'arg1': 'The company, which currently employs 107, 300 staff'}, {'confidence': 0.8321465232489272, 'rel': 'employs', 'arg2': ['107', 'currently'], 'arg1': 'The company'}, {'confidence': 0.9111779447320654, 'rel': 'will take', 'arg2': ['place', 'throughout 2017'], 'arg1': 'further workforce cuts'}, {'confidence': 0.7852615174453589, 'rel': 'to be laid off', 'arg2': [], 'arg1': 'the first set of employees'}, {'confidence': 0.9111779447320654, 'rel': 'will take', 'arg2': ['place', 'throughout 2017'], 'arg1': 'further workforce cuts'}] \n",
      "\n",
      "tup =  [{'confidence': 0.893884626924355, 'rel': 'will be informed', 'arg2': ['within the next 60 days', 'whilst further workforce cuts will take place throughout 2017'], 'arg1': 'the first set of employees'}, {'confidence': 0.9111779447320654, 'rel': 'will take', 'arg2': ['place', 'throughout 2017'], 'arg1': 'further workforce cuts'}, {'confidence': 0.7987739266772069, 'rel': 'employs', 'arg2': ['107', 'currently'], 'arg1': 'The company'}, {'confidence': 0.8888883252632631, 'rel': 'confirmed', 'arg2': ['that the first set of employees to be laid off will be informed within the next 60 days, whilst further workforce cuts will take place throughout 2017'], 'arg1': 'The company, which currently employs 107, 300 staff'}, {'confidence': 0.8321465232489272, 'rel': 'employs', 'arg2': ['107', 'currently'], 'arg1': 'The company'}, {'confidence': 0.9111779447320654, 'rel': 'will take', 'arg2': ['place', 'throughout 2017'], 'arg1': 'further workforce cuts'}, {'confidence': 0.7852615174453589, 'rel': 'to be laid off', 'arg2': [], 'arg1': 'the first set of employees'}, {'confidence': 0.9111779447320654, 'rel': 'will take', 'arg2': ['place', 'throughout 2017'], 'arg1': 'further workforce cuts'}, {'confidence': 0.7130135287477929, 'rel': 'to be laid off', 'arg2': [], 'arg1': 'employees'}] \n",
      "\n",
      "tuple  [{'confidence': 0.893884626924355, 'rel': 'will be informed', 'arg2': ['within the next 60 days', 'whilst further workforce cuts will take place throughout 2017'], 'arg1': 'the first set of employees'}, {'confidence': 0.9111779447320654, 'rel': 'will take', 'arg2': ['place', 'throughout 2017'], 'arg1': 'further workforce cuts'}, {'confidence': 0.7987739266772069, 'rel': 'employs', 'arg2': ['107', 'currently'], 'arg1': 'The company'}, {'confidence': 0.8888883252632631, 'rel': 'confirmed', 'arg2': ['that the first set of employees to be laid off will be informed within the next 60 days, whilst further workforce cuts will take place throughout 2017'], 'arg1': 'The company, which currently employs 107, 300 staff'}, {'confidence': 0.8321465232489272, 'rel': 'employs', 'arg2': ['107', 'currently'], 'arg1': 'The company'}, {'confidence': 0.9111779447320654, 'rel': 'will take', 'arg2': ['place', 'throughout 2017'], 'arg1': 'further workforce cuts'}, {'confidence': 0.7852615174453589, 'rel': 'to be laid off', 'arg2': [], 'arg1': 'the first set of employees'}, {'confidence': 0.9111779447320654, 'rel': 'will take', 'arg2': ['place', 'throughout 2017'], 'arg1': 'further workforce cuts'}, {'confidence': 0.7130135287477929, 'rel': 'to be laid off', 'arg2': [], 'arg1': 'employees'}] \n",
      "\n",
      "1\n"
     ]
    }
   ],
   "source": [
    "def extract_relations(sent, tupl):\n",
    "    sent, quotes = get_quotes(sent)\n",
    "    print(\"Sentence: \", sent, \"\\n\")\n",
    "    extractions = extractor.extract(sent)\n",
    "    #print(extractions)\n",
    "    for ext in extractions:\n",
    "        #print(\"ext \", ext, \"\\n\")\n",
    "        dic = dict()\n",
    "        dic['confidence'] = ext['confidence']\n",
    "        #tup.append(ext['extraction']['context'])\n",
    "        arg1 = ext['extraction']['arg1']['text']\n",
    "        arg2 = ext['extraction']['arg2s']\n",
    "        rel = ext['extraction']['rel']['text']\n",
    "        dic['arg1'] = arg1\n",
    "        dic['rel'] = rel\n",
    "        temp = []\n",
    "        \n",
    "        for a in arg2:\n",
    "            txt = a['text']\n",
    "            temp.append(txt)\n",
    "            \n",
    "        dic['arg2'] = temp\n",
    "        tupl.append(dic)\n",
    "        print(\"tup = \", tupl, \"\\n\")\n",
    "        \n",
    "        \n",
    "        if(' ' in arg1):\n",
    "            extract_2 = extractor.extract(arg1)\n",
    "            if(len(extract_2) > 0):\n",
    "                tupl = extract_relations(arg1, tupl)\n",
    "        \n",
    "        for txt in temp:\n",
    "            if(' ' in txt):\n",
    "                extract_2 = extractor.extract(txt)\n",
    "                if(len(extract_2) > 0):\n",
    "                    tupl = extract_relations(txt, tupl)\n",
    "        print(\"tuple \", tupl, \"\\n\")\n",
    "    return tupl\n",
    "\n",
    "def get_rels(tup):\n",
    "    extracted_rels = []\n",
    "    for t in tup:\n",
    "        temp = (t['confidence'], t['arg1'], t['rel'], t['arg2'])\n",
    "        extracted_rels.append(temp)\n",
    "    return extracted_rels\n",
    "\n",
    "count = 0\n",
    "extracted_rels = []\n",
    "for sent in sent2[1:2]:\n",
    "    #print(\"Sentence: \", sent, \"\\n\")\n",
    "    tup = extract_relations(sent, tupl=[])   \n",
    "    extracted_rels.append(get_rels(tup))\n",
    "    count+=1\n",
    "    print(count)"
   ]
  },
  {
   "cell_type": "code",
   "execution_count": 74,
   "metadata": {},
   "outputs": [
    {
     "data": {
      "text/plain": [
       "[[(0.893884626924355,\n",
       "   'the first set of employees',\n",
       "   'will be informed',\n",
       "   ['within the next 60 days',\n",
       "    'whilst further workforce cuts will take place throughout 2017']),\n",
       "  (0.9111779447320654,\n",
       "   'further workforce cuts',\n",
       "   'will take',\n",
       "   ['place', 'throughout 2017']),\n",
       "  (0.7987739266772069, 'The company', 'employs', ['107', 'currently']),\n",
       "  (0.8888883252632631,\n",
       "   'The company, which currently employs 107, 300 staff',\n",
       "   'confirmed',\n",
       "   ['that the first set of employees to be laid off will be informed within the next 60 days, whilst further workforce cuts will take place throughout 2017']),\n",
       "  (0.8321465232489272, 'The company', 'employs', ['107', 'currently']),\n",
       "  (0.9111779447320654,\n",
       "   'further workforce cuts',\n",
       "   'will take',\n",
       "   ['place', 'throughout 2017']),\n",
       "  (0.7852615174453589, 'the first set of employees', 'to be laid off', []),\n",
       "  (0.9111779447320654,\n",
       "   'further workforce cuts',\n",
       "   'will take',\n",
       "   ['place', 'throughout 2017']),\n",
       "  (0.7130135287477929, 'employees', 'to be laid off', [])]]"
      ]
     },
     "execution_count": 74,
     "metadata": {},
     "output_type": "execute_result"
    }
   ],
   "source": [
    "extracted_rels"
   ]
  },
  {
   "cell_type": "code",
   "execution_count": null,
   "metadata": {},
   "outputs": [],
   "source": []
  }
 ],
 "metadata": {
  "kernelspec": {
   "display_name": "Python 3",
   "language": "python",
   "name": "python3"
  },
  "language_info": {
   "codemirror_mode": {
    "name": "ipython",
    "version": 3
   },
   "file_extension": ".py",
   "mimetype": "text/x-python",
   "name": "python",
   "nbconvert_exporter": "python",
   "pygments_lexer": "ipython3",
   "version": "3.5.2"
  }
 },
 "nbformat": 4,
 "nbformat_minor": 2
}
