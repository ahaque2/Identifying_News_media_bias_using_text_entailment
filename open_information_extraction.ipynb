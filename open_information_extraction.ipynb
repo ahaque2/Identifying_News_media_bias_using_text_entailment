{
 "cells": [
  {
   "cell_type": "code",
   "execution_count": 13,
   "metadata": {},
   "outputs": [],
   "source": [
    "from pyopenie import OpenIE5\n",
    "import pandas as pd\n",
    "import re\n",
    "import sys\n",
    "extractor = OpenIE5('http://localhost:8000')"
   ]
  },
  {
   "cell_type": "code",
   "execution_count": 14,
   "metadata": {},
   "outputs": [],
   "source": [
    "def get_quotes(sent):\n",
    "\n",
    "    #s = \"Head Tyrus Wong, ‘Bambi’ Artist Thwarted by Racial Bias, Dies at 106\"\n",
    "    single_quote_pattern = r\"‘(.*?)’\"\n",
    "    quotes_char = [r\"‘\", r'’']\n",
    "    quotes = re.findall(single_quote_pattern, sent, re.DOTALL)\n",
    "\n",
    "    for i in range(len(quotes_char)):\n",
    "        sent = re.sub(quotes_char[i], '', sent)\n",
    "        \n",
    "    return sent, quotes"
   ]
  },
  {
   "cell_type": "code",
   "execution_count": 16,
   "metadata": {},
   "outputs": [],
   "source": [
    "data = pd.read_csv('data/cluster_0_news_unprocessed_with_labels.csv')\n",
    "sent2 = data['sent2']"
   ]
  },
  {
   "cell_type": "code",
   "execution_count": 75,
   "metadata": {},
   "outputs": [
    {
     "name": "stdout",
     "output_type": "stream",
     "text": [
      "1\n"
     ]
    }
   ],
   "source": [
    "def extract_relations(sent, tupl):\n",
    "    sent, quotes = get_quotes(sent)\n",
    "    extractions = extractor.extract(sent)\n",
    "    for ext in extractions:\n",
    "        dic = dict()\n",
    "        dic['confidence'] = ext['confidence']\n",
    "        arg1 = ext['extraction']['arg1']['text']\n",
    "        arg2 = ext['extraction']['arg2s']\n",
    "        rel = ext['extraction']['rel']['text']\n",
    "        dic['arg1'] = arg1\n",
    "        dic['rel'] = rel\n",
    "        temp = []\n",
    "        \n",
    "        for a in arg2:\n",
    "            txt = a['text']\n",
    "            temp.append(txt)\n",
    "            \n",
    "        dic['arg2'] = temp\n",
    "        tupl.append(dic)\n",
    "    \n",
    "        if(' ' in arg1):\n",
    "            extract_2 = extractor.extract(arg1)\n",
    "            if(len(extract_2) > 0):\n",
    "                tupl = extract_relations(arg1, tupl)\n",
    "        \n",
    "        for txt in temp:\n",
    "            if(' ' in txt):\n",
    "                extract_2 = extractor.extract(txt)\n",
    "                if(len(extract_2) > 0):\n",
    "                    tupl = extract_relations(txt, tupl)\n",
    "        #print(\"tuple \", tupl, \"\\n\")\n",
    "    return tupl\n",
    "\n",
    "def get_rels(tup):\n",
    "    extracted_rels = []\n",
    "    for t in tup:\n",
    "        temp = (t['confidence'], t['arg1'], t['rel'], t['arg2'])\n",
    "        extracted_rels.append(temp)\n",
    "    return extracted_rels\n",
    "\n",
    "count = 0\n",
    "extracted_rels = []\n",
    "for sent in sent2[1:2]:\n",
    "    #print(\"Sentence: \", sent, \"\\n\")\n",
    "    tup = extract_relations(sent, tupl=[])   \n",
    "    extracted_rels.append(get_rels(tup))\n",
    "    count+=1\n",
    "    print(count)"
   ]
  },
  {
   "cell_type": "code",
   "execution_count": 76,
   "metadata": {},
   "outputs": [
    {
     "data": {
      "text/plain": [
       "[[(0.893884626924355,\n",
       "   'the first set of employees',\n",
       "   'will be informed',\n",
       "   ['within the next 60 days',\n",
       "    'whilst further workforce cuts will take place throughout 2017']),\n",
       "  (0.9111779447320654,\n",
       "   'further workforce cuts',\n",
       "   'will take',\n",
       "   ['place', 'throughout 2017']),\n",
       "  (0.7987739266772069, 'The company', 'employs', ['107', 'currently']),\n",
       "  (0.8888883252632631,\n",
       "   'The company, which currently employs 107, 300 staff',\n",
       "   'confirmed',\n",
       "   ['that the first set of employees to be laid off will be informed within the next 60 days, whilst further workforce cuts will take place throughout 2017']),\n",
       "  (0.8321465232489272, 'The company', 'employs', ['107', 'currently']),\n",
       "  (0.9111779447320654,\n",
       "   'further workforce cuts',\n",
       "   'will take',\n",
       "   ['place', 'throughout 2017']),\n",
       "  (0.7852615174453589, 'the first set of employees', 'to be laid off', []),\n",
       "  (0.9111779447320654,\n",
       "   'further workforce cuts',\n",
       "   'will take',\n",
       "   ['place', 'throughout 2017']),\n",
       "  (0.7130135287477929, 'employees', 'to be laid off', [])]]"
      ]
     },
     "execution_count": 76,
     "metadata": {},
     "output_type": "execute_result"
    }
   ],
   "source": [
    "extracted_rels"
   ]
  },
  {
   "cell_type": "code",
   "execution_count": null,
   "metadata": {},
   "outputs": [],
   "source": []
  }
 ],
 "metadata": {
  "kernelspec": {
   "display_name": "Python 3",
   "language": "python",
   "name": "python3"
  },
  "language_info": {
   "codemirror_mode": {
    "name": "ipython",
    "version": 3
   },
   "file_extension": ".py",
   "mimetype": "text/x-python",
   "name": "python",
   "nbconvert_exporter": "python",
   "pygments_lexer": "ipython3",
   "version": "3.5.2"
  }
 },
 "nbformat": 4,
 "nbformat_minor": 2
}
